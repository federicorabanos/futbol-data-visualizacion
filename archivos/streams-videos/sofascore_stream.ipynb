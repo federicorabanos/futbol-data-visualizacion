{
 "cells": [
  {
   "cell_type": "code",
   "execution_count": 1,
   "metadata": {},
   "outputs": [],
   "source": [
    "import ScraperFC as sfc\n",
    "import pandas as pd"
   ]
  },
  {
   "cell_type": "code",
   "execution_count": 2,
   "metadata": {},
   "outputs": [],
   "source": [
    "scraper = sfc.Sofascore()"
   ]
  },
  {
   "cell_type": "code",
   "execution_count": 4,
   "metadata": {},
   "outputs": [
    {
     "data": {
      "text/plain": [
       "<ScraperFC.Sofascore.Sofascore at 0x1f8385e3d30>"
      ]
     },
     "execution_count": 4,
     "metadata": {},
     "output_type": "execute_result"
    }
   ],
   "source": [
    "scraper"
   ]
  },
  {
   "cell_type": "code",
   "execution_count": 11,
   "metadata": {},
   "outputs": [
    {
     "name": "stdout",
     "output_type": "stream",
     "text": [
      "End of the pages\n"
     ]
    }
   ],
   "source": [
    "df = scraper.scrape_league_stats('23/24', 'La Liga', accumulation='per90', selected_positions=['Defenders', 'Midfielders'])"
   ]
  },
  {
   "cell_type": "code",
   "execution_count": 12,
   "metadata": {},
   "outputs": [
    {
     "data": {
      "text/plain": [
       "Index(['goals', 'yellowCards', 'redCards', 'groundDuelsWon',\n",
       "       'groundDuelsWonPercentage', 'aerialDuelsWon',\n",
       "       'aerialDuelsWonPercentage', 'successfulDribbles',\n",
       "       'successfulDribblesPercentage', 'tackles', 'assists',\n",
       "       'accuratePassesPercentage', 'totalDuelsWon', 'totalDuelsWonPercentage',\n",
       "       'minutesPlayed', 'wasFouled', 'fouls', 'dispossessed', 'appearances',\n",
       "       'saves', 'savedShotsFromInsideTheBox', 'savedShotsFromOutsideTheBox',\n",
       "       'goalsConcededInsideTheBox', 'goalsConcededOutsideTheBox', 'highClaims',\n",
       "       'successfulRunsOut', 'punches', 'runsOut', 'accurateFinalThirdPasses',\n",
       "       'bigChancesCreated', 'accuratePasses', 'keyPasses', 'accurateCrosses',\n",
       "       'accurateCrossesPercentage', 'accurateLongBalls',\n",
       "       'accurateLongBallsPercentage', 'interceptions', 'clearances',\n",
       "       'dribbledPast', 'bigChancesMissed', 'totalShots', 'shotsOnTarget',\n",
       "       'blockedShots', 'goalConversionPercentage', 'hitWoodwork', 'offsides',\n",
       "       'expectedGoals', 'errorLeadToGoal', 'errorLeadToShot', 'passToAssist',\n",
       "       'player', 'team'],\n",
       "      dtype='object')"
      ]
     },
     "execution_count": 12,
     "metadata": {},
     "output_type": "execute_result"
    }
   ],
   "source": [
    "df.columns"
   ]
  },
  {
   "cell_type": "code",
   "execution_count": 13,
   "metadata": {},
   "outputs": [
    {
     "data": {
      "text/html": [
       "<div>\n",
       "<style scoped>\n",
       "    .dataframe tbody tr th:only-of-type {\n",
       "        vertical-align: middle;\n",
       "    }\n",
       "\n",
       "    .dataframe tbody tr th {\n",
       "        vertical-align: top;\n",
       "    }\n",
       "\n",
       "    .dataframe thead th {\n",
       "        text-align: right;\n",
       "    }\n",
       "</style>\n",
       "<table border=\"1\" class=\"dataframe\">\n",
       "  <thead>\n",
       "    <tr style=\"text-align: right;\">\n",
       "      <th></th>\n",
       "      <th>goals</th>\n",
       "      <th>yellowCards</th>\n",
       "      <th>redCards</th>\n",
       "      <th>groundDuelsWon</th>\n",
       "      <th>groundDuelsWonPercentage</th>\n",
       "      <th>aerialDuelsWon</th>\n",
       "      <th>aerialDuelsWonPercentage</th>\n",
       "      <th>successfulDribbles</th>\n",
       "      <th>successfulDribblesPercentage</th>\n",
       "      <th>tackles</th>\n",
       "      <th>...</th>\n",
       "      <th>blockedShots</th>\n",
       "      <th>goalConversionPercentage</th>\n",
       "      <th>hitWoodwork</th>\n",
       "      <th>offsides</th>\n",
       "      <th>expectedGoals</th>\n",
       "      <th>errorLeadToGoal</th>\n",
       "      <th>errorLeadToShot</th>\n",
       "      <th>passToAssist</th>\n",
       "      <th>player</th>\n",
       "      <th>team</th>\n",
       "    </tr>\n",
       "  </thead>\n",
       "  <tbody>\n",
       "    <tr>\n",
       "      <th>0</th>\n",
       "      <td>0.14</td>\n",
       "      <td>0.28</td>\n",
       "      <td>0.0</td>\n",
       "      <td>6.68</td>\n",
       "      <td>63.09</td>\n",
       "      <td>0.85</td>\n",
       "      <td>44.44</td>\n",
       "      <td>2.63</td>\n",
       "      <td>69.81</td>\n",
       "      <td>2.91</td>\n",
       "      <td>...</td>\n",
       "      <td>0.36</td>\n",
       "      <td>14.29</td>\n",
       "      <td>0.00</td>\n",
       "      <td>0.14</td>\n",
       "      <td>0.07</td>\n",
       "      <td>0.0</td>\n",
       "      <td>0.00</td>\n",
       "      <td>0.00</td>\n",
       "      <td>João Cancelo</td>\n",
       "      <td>Barcelona</td>\n",
       "    </tr>\n",
       "    <tr>\n",
       "      <th>1</th>\n",
       "      <td>0.15</td>\n",
       "      <td>0.08</td>\n",
       "      <td>0.0</td>\n",
       "      <td>3.43</td>\n",
       "      <td>48.91</td>\n",
       "      <td>0.69</td>\n",
       "      <td>42.86</td>\n",
       "      <td>0.53</td>\n",
       "      <td>50.00</td>\n",
       "      <td>2.14</td>\n",
       "      <td>...</td>\n",
       "      <td>0.00</td>\n",
       "      <td>22.22</td>\n",
       "      <td>0.08</td>\n",
       "      <td>0.00</td>\n",
       "      <td>0.04</td>\n",
       "      <td>0.0</td>\n",
       "      <td>0.08</td>\n",
       "      <td>0.08</td>\n",
       "      <td>Daniel Carvajal</td>\n",
       "      <td>Real Madrid</td>\n",
       "    </tr>\n",
       "    <tr>\n",
       "      <th>2</th>\n",
       "      <td>0.10</td>\n",
       "      <td>0.40</td>\n",
       "      <td>0.1</td>\n",
       "      <td>2.91</td>\n",
       "      <td>56.86</td>\n",
       "      <td>3.11</td>\n",
       "      <td>63.27</td>\n",
       "      <td>0.20</td>\n",
       "      <td>50.00</td>\n",
       "      <td>1.40</td>\n",
       "      <td>...</td>\n",
       "      <td>0.50</td>\n",
       "      <td>7.14</td>\n",
       "      <td>0.10</td>\n",
       "      <td>0.40</td>\n",
       "      <td>0.09</td>\n",
       "      <td>0.0</td>\n",
       "      <td>0.00</td>\n",
       "      <td>0.00</td>\n",
       "      <td>Sergio Ramos</td>\n",
       "      <td>Sevilla</td>\n",
       "    </tr>\n",
       "    <tr>\n",
       "      <th>3</th>\n",
       "      <td>0.76</td>\n",
       "      <td>0.25</td>\n",
       "      <td>0.0</td>\n",
       "      <td>1.51</td>\n",
       "      <td>54.55</td>\n",
       "      <td>0.50</td>\n",
       "      <td>28.57</td>\n",
       "      <td>0.00</td>\n",
       "      <td>0.00</td>\n",
       "      <td>1.26</td>\n",
       "      <td>...</td>\n",
       "      <td>0.00</td>\n",
       "      <td>50.00</td>\n",
       "      <td>0.25</td>\n",
       "      <td>0.25</td>\n",
       "      <td>0.39</td>\n",
       "      <td>0.0</td>\n",
       "      <td>0.00</td>\n",
       "      <td>0.00</td>\n",
       "      <td>Sergi Roberto</td>\n",
       "      <td>Barcelona</td>\n",
       "    </tr>\n",
       "    <tr>\n",
       "      <th>4</th>\n",
       "      <td>0.25</td>\n",
       "      <td>0.13</td>\n",
       "      <td>0.0</td>\n",
       "      <td>1.89</td>\n",
       "      <td>62.50</td>\n",
       "      <td>6.31</td>\n",
       "      <td>73.53</td>\n",
       "      <td>0.00</td>\n",
       "      <td>0.00</td>\n",
       "      <td>1.01</td>\n",
       "      <td>...</td>\n",
       "      <td>0.38</td>\n",
       "      <td>20.00</td>\n",
       "      <td>0.00</td>\n",
       "      <td>0.13</td>\n",
       "      <td>0.09</td>\n",
       "      <td>0.0</td>\n",
       "      <td>0.13</td>\n",
       "      <td>0.00</td>\n",
       "      <td>Antonio Raíllo</td>\n",
       "      <td>Mallorca</td>\n",
       "    </tr>\n",
       "  </tbody>\n",
       "</table>\n",
       "<p>5 rows × 52 columns</p>\n",
       "</div>"
      ],
      "text/plain": [
       "   goals  yellowCards  redCards  groundDuelsWon  groundDuelsWonPercentage  \\\n",
       "0   0.14         0.28       0.0            6.68                     63.09   \n",
       "1   0.15         0.08       0.0            3.43                     48.91   \n",
       "2   0.10         0.40       0.1            2.91                     56.86   \n",
       "3   0.76         0.25       0.0            1.51                     54.55   \n",
       "4   0.25         0.13       0.0            1.89                     62.50   \n",
       "\n",
       "   aerialDuelsWon  aerialDuelsWonPercentage  successfulDribbles  \\\n",
       "0            0.85                     44.44                2.63   \n",
       "1            0.69                     42.86                0.53   \n",
       "2            3.11                     63.27                0.20   \n",
       "3            0.50                     28.57                0.00   \n",
       "4            6.31                     73.53                0.00   \n",
       "\n",
       "   successfulDribblesPercentage  tackles  ...  blockedShots  \\\n",
       "0                         69.81     2.91  ...          0.36   \n",
       "1                         50.00     2.14  ...          0.00   \n",
       "2                         50.00     1.40  ...          0.50   \n",
       "3                          0.00     1.26  ...          0.00   \n",
       "4                          0.00     1.01  ...          0.38   \n",
       "\n",
       "   goalConversionPercentage  hitWoodwork  offsides  expectedGoals  \\\n",
       "0                     14.29         0.00      0.14           0.07   \n",
       "1                     22.22         0.08      0.00           0.04   \n",
       "2                      7.14         0.10      0.40           0.09   \n",
       "3                     50.00         0.25      0.25           0.39   \n",
       "4                     20.00         0.00      0.13           0.09   \n",
       "\n",
       "   errorLeadToGoal  errorLeadToShot  passToAssist           player  \\\n",
       "0              0.0             0.00          0.00     João Cancelo   \n",
       "1              0.0             0.08          0.08  Daniel Carvajal   \n",
       "2              0.0             0.00          0.00     Sergio Ramos   \n",
       "3              0.0             0.00          0.00    Sergi Roberto   \n",
       "4              0.0             0.13          0.00   Antonio Raíllo   \n",
       "\n",
       "          team  \n",
       "0    Barcelona  \n",
       "1  Real Madrid  \n",
       "2      Sevilla  \n",
       "3    Barcelona  \n",
       "4     Mallorca  \n",
       "\n",
       "[5 rows x 52 columns]"
      ]
     },
     "execution_count": 13,
     "metadata": {},
     "output_type": "execute_result"
    }
   ],
   "source": [
    "df.head()"
   ]
  },
  {
   "cell_type": "code",
   "execution_count": 17,
   "metadata": {},
   "outputs": [],
   "source": [
    "match_momentum = scraper.match_momentum('https://www.sofascore.com/las-palmas-barcelona/rgbsCGc#11369452')"
   ]
  },
  {
   "cell_type": "code",
   "execution_count": 16,
   "metadata": {},
   "outputs": [],
   "source": [
    "import matplotlib.pyplot as plt"
   ]
  },
  {
   "cell_type": "code",
   "execution_count": 18,
   "metadata": {},
   "outputs": [
    {
     "data": {
      "text/plain": [
       "Index(['minute', 'value'], dtype='object')"
      ]
     },
     "execution_count": 18,
     "metadata": {},
     "output_type": "execute_result"
    }
   ],
   "source": [
    "match_momentum.columns"
   ]
  },
  {
   "cell_type": "code",
   "execution_count": 21,
   "metadata": {},
   "outputs": [
    {
     "data": {
      "text/html": [
       "<div>\n",
       "<style scoped>\n",
       "    .dataframe tbody tr th:only-of-type {\n",
       "        vertical-align: middle;\n",
       "    }\n",
       "\n",
       "    .dataframe tbody tr th {\n",
       "        vertical-align: top;\n",
       "    }\n",
       "\n",
       "    .dataframe thead th {\n",
       "        text-align: right;\n",
       "    }\n",
       "</style>\n",
       "<table border=\"1\" class=\"dataframe\">\n",
       "  <thead>\n",
       "    <tr style=\"text-align: right;\">\n",
       "      <th></th>\n",
       "      <th>minute</th>\n",
       "      <th>value</th>\n",
       "    </tr>\n",
       "  </thead>\n",
       "  <tbody>\n",
       "    <tr>\n",
       "      <th>0</th>\n",
       "      <td>1.0</td>\n",
       "      <td>-4</td>\n",
       "    </tr>\n",
       "    <tr>\n",
       "      <th>1</th>\n",
       "      <td>2.0</td>\n",
       "      <td>-13</td>\n",
       "    </tr>\n",
       "    <tr>\n",
       "      <th>2</th>\n",
       "      <td>3.0</td>\n",
       "      <td>-11</td>\n",
       "    </tr>\n",
       "    <tr>\n",
       "      <th>3</th>\n",
       "      <td>4.0</td>\n",
       "      <td>-3</td>\n",
       "    </tr>\n",
       "    <tr>\n",
       "      <th>4</th>\n",
       "      <td>5.0</td>\n",
       "      <td>-4</td>\n",
       "    </tr>\n",
       "    <tr>\n",
       "      <th>...</th>\n",
       "      <td>...</td>\n",
       "      <td>...</td>\n",
       "    </tr>\n",
       "    <tr>\n",
       "      <th>87</th>\n",
       "      <td>87.0</td>\n",
       "      <td>-46</td>\n",
       "    </tr>\n",
       "    <tr>\n",
       "      <th>88</th>\n",
       "      <td>88.0</td>\n",
       "      <td>-32</td>\n",
       "    </tr>\n",
       "    <tr>\n",
       "      <th>89</th>\n",
       "      <td>89.0</td>\n",
       "      <td>-30</td>\n",
       "    </tr>\n",
       "    <tr>\n",
       "      <th>90</th>\n",
       "      <td>90.0</td>\n",
       "      <td>-21</td>\n",
       "    </tr>\n",
       "    <tr>\n",
       "      <th>91</th>\n",
       "      <td>90.5</td>\n",
       "      <td>-70</td>\n",
       "    </tr>\n",
       "  </tbody>\n",
       "</table>\n",
       "<p>92 rows × 2 columns</p>\n",
       "</div>"
      ],
      "text/plain": [
       "    minute  value\n",
       "0      1.0     -4\n",
       "1      2.0    -13\n",
       "2      3.0    -11\n",
       "3      4.0     -3\n",
       "4      5.0     -4\n",
       "..     ...    ...\n",
       "87    87.0    -46\n",
       "88    88.0    -32\n",
       "89    89.0    -30\n",
       "90    90.0    -21\n",
       "91    90.5    -70\n",
       "\n",
       "[92 rows x 2 columns]"
      ]
     },
     "execution_count": 21,
     "metadata": {},
     "output_type": "execute_result"
    }
   ],
   "source": [
    "match_momentum"
   ]
  },
  {
   "cell_type": "code",
   "execution_count": 22,
   "metadata": {},
   "outputs": [
    {
     "data": {
      "text/plain": [
       "<BarContainer object of 68 artists>"
      ]
     },
     "execution_count": 22,
     "metadata": {},
     "output_type": "execute_result"
    },
    {
     "data": {
      "image/png": "[encoded data removed]",
      "text/plain": [
       "<Figure size 1152x648 with 1 Axes>"
      ]
     },
     "metadata": {
      "needs_background": "light"
     },
     "output_type": "display_data"
    }
   ],
   "source": [
    "fig, ax = plt.subplots(figsize=(16,9))\n",
    "match_momentum_local = match_momentum[match_momentum['value'] > 0]\n",
    "match_momentum_visit = match_momentum[match_momentum['value'] < 0]\n",
    "\n",
    "plt.bar(match_momentum_local.minute, match_momentum_local.value, color='green')\n",
    "plt.bar(match_momentum_visit.minute, match_momentum_visit.value, color='blue')\n"
   ]
  },
  {
   "cell_type": "code",
   "execution_count": 23,
   "metadata": {},
   "outputs": [],
   "source": [
    "datos_partido = scraper.get_general_match_stats('https://www.sofascore.com/las-palmas-barcelona/rgbsCGc#11369452')"
   ]
  },
  {
   "cell_type": "code",
   "execution_count": 25,
   "metadata": {},
   "outputs": [
    {
     "data": {
      "text/plain": [
       "('Las Palmas', 'Barcelona')"
      ]
     },
     "execution_count": 25,
     "metadata": {},
     "output_type": "execute_result"
    }
   ],
   "source": [
    "scraper.get_team_names('https://www.sofascore.com/las-palmas-barcelona/rgbsCGc#11369452')"
   ]
  },
  {
   "cell_type": "code",
   "execution_count": 27,
   "metadata": {},
   "outputs": [],
   "source": [
    "jugadores = scraper.get_players_match_stats('https://www.sofascore.com/las-palmas-barcelona/rgbsCGc#11369452')"
   ]
  },
  {
   "cell_type": "code",
   "execution_count": 30,
   "metadata": {},
   "outputs": [
    {
     "data": {
      "text/plain": [
       "Index(['name', 'firstName', 'lastName', 'slug', 'shortName', 'position',\n",
       "       'userCount', 'id', 'country', 'marketValueCurrency',\n",
       "       'dateOfBirthTimestamp', 'shirtNumber', 'jerseyNumber', 'position',\n",
       "       'substitute', 'totalPass', 'accuratePass', 'totalLongBalls',\n",
       "       'accurateLongBalls', 'totalClearance', 'savedShotsFromInsideTheBox',\n",
       "       'saves', 'punches', 'minutesPlayed', 'touches', 'rating',\n",
       "       'possessionLostCtrl', 'ratingVersions', 'goalsPrevented',\n",
       "       'blockedScoringAttempt', 'expectedGoals', 'expectedAssists',\n",
       "       'totalCross', 'aerialLost', 'aerialWon', 'duelLost', 'duelWon',\n",
       "       'totalContest', 'wonContest', 'outfielderBlock', 'interceptionWon',\n",
       "       'totalTackle', 'wasFouled', 'dispossessed', 'fouls', 'totalOffside',\n",
       "       'accurateCross', 'challengeLost', 'keyPass', 'onTargetScoringAttempt',\n",
       "       'goals', 'penaltyWon', 'goalAssist', 'shotOffTarget',\n",
       "       'bigChanceCreated', 'bigChanceMissed', 'captain', 'team'],\n",
       "      dtype='object')"
      ]
     },
     "execution_count": 30,
     "metadata": {},
     "output_type": "execute_result"
    }
   ],
   "source": [
    "jugadores[1].columns"
   ]
  },
  {
   "cell_type": "code",
   "execution_count": 32,
   "metadata": {},
   "outputs": [],
   "source": [
    "posiciones_prom = scraper.get_players_average_positions('https://www.sofascore.com/las-palmas-barcelona/rgbsCGc#11369452')"
   ]
  },
  {
   "cell_type": "code",
   "execution_count": 41,
   "metadata": {},
   "outputs": [
    {
     "data": {
      "text/plain": [
       "<matplotlib.collections.PathCollection at 0x1f85d7bcca0>"
      ]
     },
     "execution_count": 41,
     "metadata": {},
     "output_type": "execute_result"
    },
    {
     "data": {
      "image/png": "[encoded data removed]",
      "text/plain": [
       "<Figure size 1152x648 with 1 Axes>"
      ]
     },
     "metadata": {},
     "output_type": "display_data"
    }
   ],
   "source": [
    "from mplsoccer import VerticalPitch\n",
    "\n",
    "fig, ax = plt.subplots(figsize=(16,9))\n",
    "\n",
    "pitch = VerticalPitch(pitch_type='opta')\n",
    "pitch.draw(ax=ax)\n",
    "pitch.scatter(posiciones_prom[1].averageX, posiciones_prom[1].averageY, ax=ax)"
   ]
  },
  {
   "cell_type": "code",
   "execution_count": 55,
   "metadata": {},
   "outputs": [],
   "source": [
    "mapa_calor = scraper.get_player_heatmap('https://www.sofascore.com/las-palmas-barcelona/rgbsCGc#11369452', player='Robert Lewandowski')"
   ]
  },
  {
   "cell_type": "code",
   "execution_count": 58,
   "metadata": {},
   "outputs": [
    {
     "data": {
      "text/html": [
       "<div>\n",
       "<style scoped>\n",
       "    .dataframe tbody tr th:only-of-type {\n",
       "        vertical-align: middle;\n",
       "    }\n",
       "\n",
       "    .dataframe tbody tr th {\n",
       "        vertical-align: top;\n",
       "    }\n",
       "\n",
       "    .dataframe thead th {\n",
       "        text-align: right;\n",
       "    }\n",
       "</style>\n",
       "<table border=\"1\" class=\"dataframe\">\n",
       "  <thead>\n",
       "    <tr style=\"text-align: right;\">\n",
       "      <th></th>\n",
       "      <th>x</th>\n",
       "      <th>y</th>\n",
       "    </tr>\n",
       "  </thead>\n",
       "  <tbody>\n",
       "    <tr>\n",
       "      <th>0</th>\n",
       "      <td>56</td>\n",
       "      <td>93</td>\n",
       "    </tr>\n",
       "    <tr>\n",
       "      <th>1</th>\n",
       "      <td>61</td>\n",
       "      <td>54</td>\n",
       "    </tr>\n",
       "    <tr>\n",
       "      <th>2</th>\n",
       "      <td>45</td>\n",
       "      <td>37</td>\n",
       "    </tr>\n",
       "    <tr>\n",
       "      <th>3</th>\n",
       "      <td>45</td>\n",
       "      <td>35</td>\n",
       "    </tr>\n",
       "    <tr>\n",
       "      <th>4</th>\n",
       "      <td>73</td>\n",
       "      <td>45</td>\n",
       "    </tr>\n",
       "    <tr>\n",
       "      <th>5</th>\n",
       "      <td>6</td>\n",
       "      <td>52</td>\n",
       "    </tr>\n",
       "    <tr>\n",
       "      <th>6</th>\n",
       "      <td>7</td>\n",
       "      <td>54</td>\n",
       "    </tr>\n",
       "    <tr>\n",
       "      <th>7</th>\n",
       "      <td>93</td>\n",
       "      <td>53</td>\n",
       "    </tr>\n",
       "    <tr>\n",
       "      <th>8</th>\n",
       "      <td>94</td>\n",
       "      <td>54</td>\n",
       "    </tr>\n",
       "    <tr>\n",
       "      <th>9</th>\n",
       "      <td>93</td>\n",
       "      <td>53</td>\n",
       "    </tr>\n",
       "    <tr>\n",
       "      <th>10</th>\n",
       "      <td>60</td>\n",
       "      <td>70</td>\n",
       "    </tr>\n",
       "    <tr>\n",
       "      <th>11</th>\n",
       "      <td>74</td>\n",
       "      <td>75</td>\n",
       "    </tr>\n",
       "    <tr>\n",
       "      <th>12</th>\n",
       "      <td>50</td>\n",
       "      <td>29</td>\n",
       "    </tr>\n",
       "    <tr>\n",
       "      <th>13</th>\n",
       "      <td>63</td>\n",
       "      <td>41</td>\n",
       "    </tr>\n",
       "    <tr>\n",
       "      <th>14</th>\n",
       "      <td>42</td>\n",
       "      <td>30</td>\n",
       "    </tr>\n",
       "    <tr>\n",
       "      <th>15</th>\n",
       "      <td>50</td>\n",
       "      <td>69</td>\n",
       "    </tr>\n",
       "    <tr>\n",
       "      <th>16</th>\n",
       "      <td>92</td>\n",
       "      <td>41</td>\n",
       "    </tr>\n",
       "    <tr>\n",
       "      <th>17</th>\n",
       "      <td>92</td>\n",
       "      <td>39</td>\n",
       "    </tr>\n",
       "    <tr>\n",
       "      <th>18</th>\n",
       "      <td>59</td>\n",
       "      <td>65</td>\n",
       "    </tr>\n",
       "    <tr>\n",
       "      <th>19</th>\n",
       "      <td>71</td>\n",
       "      <td>37</td>\n",
       "    </tr>\n",
       "    <tr>\n",
       "      <th>20</th>\n",
       "      <td>94</td>\n",
       "      <td>57</td>\n",
       "    </tr>\n",
       "    <tr>\n",
       "      <th>21</th>\n",
       "      <td>81</td>\n",
       "      <td>68</td>\n",
       "    </tr>\n",
       "    <tr>\n",
       "      <th>22</th>\n",
       "      <td>82</td>\n",
       "      <td>65</td>\n",
       "    </tr>\n",
       "    <tr>\n",
       "      <th>23</th>\n",
       "      <td>52</td>\n",
       "      <td>73</td>\n",
       "    </tr>\n",
       "    <tr>\n",
       "      <th>24</th>\n",
       "      <td>79</td>\n",
       "      <td>35</td>\n",
       "    </tr>\n",
       "    <tr>\n",
       "      <th>25</th>\n",
       "      <td>85</td>\n",
       "      <td>34</td>\n",
       "    </tr>\n",
       "    <tr>\n",
       "      <th>26</th>\n",
       "      <td>85</td>\n",
       "      <td>54</td>\n",
       "    </tr>\n",
       "    <tr>\n",
       "      <th>27</th>\n",
       "      <td>92</td>\n",
       "      <td>55</td>\n",
       "    </tr>\n",
       "  </tbody>\n",
       "</table>\n",
       "</div>"
      ],
      "text/plain": [
       "     x   y\n",
       "0   56  93\n",
       "1   61  54\n",
       "2   45  37\n",
       "3   45  35\n",
       "4   73  45\n",
       "5    6  52\n",
       "6    7  54\n",
       "7   93  53\n",
       "8   94  54\n",
       "9   93  53\n",
       "10  60  70\n",
       "11  74  75\n",
       "12  50  29\n",
       "13  63  41\n",
       "14  42  30\n",
       "15  50  69\n",
       "16  92  41\n",
       "17  92  39\n",
       "18  59  65\n",
       "19  71  37\n",
       "20  94  57\n",
       "21  81  68\n",
       "22  82  65\n",
       "23  52  73\n",
       "24  79  35\n",
       "25  85  34\n",
       "26  85  54\n",
       "27  92  55"
      ]
     },
     "execution_count": 58,
     "metadata": {},
     "output_type": "execute_result"
    }
   ],
   "source": [
    "mapa_calor"
   ]
  },
  {
   "cell_type": "code",
   "execution_count": 57,
   "metadata": {},
   "outputs": [
    {
     "name": "stderr",
     "output_type": "stream",
     "text": [
      "c:\\Users\\Federico Rábanos\\AppData\\Local\\Programs\\Python\\Python39\\lib\\site-packages\\seaborn\\distributions.py:1676: UserWarning: `shade_lowest` is now deprecated in favor of `thresh`. Setting `thresh=0`, but please update your code.\n",
      "  warnings.warn(msg, UserWarning)\n",
      "c:\\Users\\Federico Rábanos\\AppData\\Local\\Programs\\Python\\Python39\\lib\\site-packages\\seaborn\\_core.py:1218: FutureWarning: is_categorical_dtype is deprecated and will be removed in a future version. Use isinstance(dtype, CategoricalDtype) instead\n",
      "  if pd.api.types.is_categorical_dtype(vector):\n",
      "c:\\Users\\Federico Rábanos\\AppData\\Local\\Programs\\Python\\Python39\\lib\\site-packages\\seaborn\\_core.py:1218: FutureWarning: is_categorical_dtype is deprecated and will be removed in a future version. Use isinstance(dtype, CategoricalDtype) instead\n",
      "  if pd.api.types.is_categorical_dtype(vector):\n"
     ]
    },
    {
     "data": {
      "image/png": "[encoded data removed]",
      "text/plain": [
       "<Figure size 1152x648 with 1 Axes>"
      ]
     },
     "metadata": {},
     "output_type": "display_data"
    }
   ],
   "source": [
    "import seaborn as sns\n",
    "fig, ax = plt.subplots(figsize=(16,9))\n",
    "\n",
    "cmap = 'hot'\n",
    "pitch = Pitch(pitch_type='opta')\n",
    "pitch.draw(ax=ax)\n",
    "pitch.kdeplot(mapa_calor.x, mapa_calor.y,ax=ax,\n",
    "            levels=100,\n",
    "            shade=True,\n",
    "            zorder=-1,\n",
    "            shade_lowest=True,\n",
    "            cmap='OrRd')\n",
    "\n",
    "plt.gca().invert_yaxis()"
   ]
  }
 ],
 "metadata": {
  "kernelspec": {
   "display_name": "Python 3",
   "language": "python",
   "name": "python3"
  },
  "language_info": {
   "codemirror_mode": {
    "name": "ipython",
    "version": 3
   },
   "file_extension": ".py",
   "mimetype": "text/x-python",
   "name": "python",
   "nbconvert_exporter": "python",
   "pygments_lexer": "ipython3",
   "version": "3.9.2"
  }
 },
 "nbformat": 4,
 "nbformat_minor": 2
}
