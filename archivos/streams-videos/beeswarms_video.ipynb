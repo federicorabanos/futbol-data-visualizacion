{
 "cells": [
  {
   "cell_type": "code",
   "execution_count": 1,
   "metadata": {},
   "outputs": [],
   "source": [
    "import pandas as pd \n",
    "import seaborn as sns\n",
    "import matplotlib.pyplot as plt\n",
    "import numpy as np\n",
    "from fbref import Fbref\n",
    "import matplotlib.patches as patches\n",
    "from mplsoccer import FontManager\n",
    "\n",
    "URL3 = 'https://github.com/VanillaandCream/Catamaran-Tamil/blob/master/Fonts/Catamaran-Medium.ttf?raw=true'\n",
    "catamaran2 = FontManager(URL3)\n",
    "URL = 'https://github.com/google/fonts/blob/main/ofl/fjallaone/FjallaOne-Regular.ttf?raw=true'\n",
    "robotto_regular = FontManager(URL)\n",
    "URL2 = 'https://github.com/VanillaandCream/Catamaran-Tamil/blob/master/Fonts/Catamaran-ExtraBold.ttf?raw=true'\n",
    "catamaran = FontManager(URL2)\n",
    "URL4 = 'https://github.com/google/fonts/blob/main/ofl/bungeeinline/BungeeInline-Regular.ttf?raw=true'\n",
    "titulo = FontManager(URL4)"
   ]
  },
  {
   "cell_type": "code",
   "execution_count": 2,
   "metadata": {},
   "outputs": [],
   "source": [
    "scraper = Fbref()"
   ]
  },
  {
   "cell_type": "code",
   "execution_count": 3,
   "metadata": {},
   "outputs": [],
   "source": [
    "df = scraper.get_player_season_stats('gca', 'Copa de la Liga')"
   ]
  },
  {
   "cell_type": "code",
   "execution_count": 4,
   "metadata": {},
   "outputs": [
    {
     "data": {
      "text/plain": [
       "Index(['Player', 'Nation', 'Pos', 'Squad', 'Comp', 'Age', 'Born', '90s', 'SCA',\n",
       "       'SCA90', 'PassLive', 'PassDead', 'TO', 'Sh', 'Fld', 'Def', 'GCA',\n",
       "       'GCA90', 'PassLive', 'PassDead', 'TO', 'Sh', 'Fld', 'Def'],\n",
       "      dtype='object')"
      ]
     },
     "execution_count": 4,
     "metadata": {},
     "output_type": "execute_result"
    }
   ],
   "source": [
    "df.columns"
   ]
  },
  {
   "cell_type": "code",
   "execution_count": 5,
   "metadata": {},
   "outputs": [
    {
     "data": {
      "text/html": [
       "<div>\n",
       "<style scoped>\n",
       "    .dataframe tbody tr th:only-of-type {\n",
       "        vertical-align: middle;\n",
       "    }\n",
       "\n",
       "    .dataframe tbody tr th {\n",
       "        vertical-align: top;\n",
       "    }\n",
       "\n",
       "    .dataframe thead th {\n",
       "        text-align: right;\n",
       "    }\n",
       "</style>\n",
       "<table border=\"1\" class=\"dataframe\">\n",
       "  <thead>\n",
       "    <tr style=\"text-align: right;\">\n",
       "      <th></th>\n",
       "      <th>Player</th>\n",
       "      <th>Pos</th>\n",
       "      <th>90s</th>\n",
       "      <th>Age</th>\n",
       "      <th>SCA90</th>\n",
       "    </tr>\n",
       "  </thead>\n",
       "  <tbody>\n",
       "    <tr>\n",
       "      <th>0</th>\n",
       "      <td>Matías Abaldo</td>\n",
       "      <td>MF,FW</td>\n",
       "      <td>4.5</td>\n",
       "      <td>19-360</td>\n",
       "      <td>3.59</td>\n",
       "    </tr>\n",
       "    <tr>\n",
       "      <th>1</th>\n",
       "      <td>Luciano Abecasis</td>\n",
       "      <td>MF,DF</td>\n",
       "      <td>8.9</td>\n",
       "      <td>33-298</td>\n",
       "      <td>2.36</td>\n",
       "    </tr>\n",
       "    <tr>\n",
       "      <th>2</th>\n",
       "      <td>Ramón Ábila</td>\n",
       "      <td>FW</td>\n",
       "      <td>1.8</td>\n",
       "      <td>34-166</td>\n",
       "      <td>4.39</td>\n",
       "    </tr>\n",
       "    <tr>\n",
       "      <th>3</th>\n",
       "      <td>Jonás Acevedo</td>\n",
       "      <td>MF,FW</td>\n",
       "      <td>4.2</td>\n",
       "      <td>27-051</td>\n",
       "      <td>5.22</td>\n",
       "    </tr>\n",
       "    <tr>\n",
       "      <th>4</th>\n",
       "      <td>Guillermo Acosta</td>\n",
       "      <td>MF</td>\n",
       "      <td>6.3</td>\n",
       "      <td>35-149</td>\n",
       "      <td>3.18</td>\n",
       "    </tr>\n",
       "  </tbody>\n",
       "</table>\n",
       "</div>"
      ],
      "text/plain": [
       "             Player    Pos  90s     Age SCA90\n",
       "0     Matías Abaldo  MF,FW  4.5  19-360  3.59\n",
       "1  Luciano Abecasis  MF,DF  8.9  33-298  2.36\n",
       "2       Ramón Ábila     FW  1.8  34-166  4.39\n",
       "3     Jonás Acevedo  MF,FW  4.2  27-051  5.22\n",
       "4  Guillermo Acosta     MF  6.3  35-149  3.18"
      ]
     },
     "execution_count": 5,
     "metadata": {},
     "output_type": "execute_result"
    }
   ],
   "source": [
    "df_filt = df[['Player', 'Pos', '90s', 'Age', 'SCA90']]\n",
    "df_filt.head()"
   ]
  },
  {
   "cell_type": "code",
   "execution_count": 6,
   "metadata": {},
   "outputs": [
    {
     "name": "stdout",
     "output_type": "stream",
     "text": [
      "<class 'pandas.core.frame.DataFrame'>\n",
      "RangeIndex: 733 entries, 0 to 732\n",
      "Data columns (total 5 columns):\n",
      " #   Column  Non-Null Count  Dtype \n",
      "---  ------  --------------  ----- \n",
      " 0   Player  733 non-null    object\n",
      " 1   Pos     733 non-null    object\n",
      " 2   90s     733 non-null    object\n",
      " 3   Age     733 non-null    object\n",
      " 4   SCA90   733 non-null    object\n",
      "dtypes: object(5)\n",
      "memory usage: 28.8+ KB\n"
     ]
    }
   ],
   "source": [
    "df_filt.info()"
   ]
  },
  {
   "cell_type": "code",
   "execution_count": 7,
   "metadata": {},
   "outputs": [
    {
     "data": {
      "text/html": [
       "<div>\n",
       "<style scoped>\n",
       "    .dataframe tbody tr th:only-of-type {\n",
       "        vertical-align: middle;\n",
       "    }\n",
       "\n",
       "    .dataframe tbody tr th {\n",
       "        vertical-align: top;\n",
       "    }\n",
       "\n",
       "    .dataframe thead th {\n",
       "        text-align: right;\n",
       "    }\n",
       "</style>\n",
       "<table border=\"1\" class=\"dataframe\">\n",
       "  <thead>\n",
       "    <tr style=\"text-align: right;\">\n",
       "      <th></th>\n",
       "      <th>90s</th>\n",
       "      <th>SCA90</th>\n",
       "    </tr>\n",
       "  </thead>\n",
       "  <tbody>\n",
       "    <tr>\n",
       "      <th>count</th>\n",
       "      <td>733.000000</td>\n",
       "      <td>733.000000</td>\n",
       "    </tr>\n",
       "    <tr>\n",
       "      <th>mean</th>\n",
       "      <td>4.580491</td>\n",
       "      <td>2.004734</td>\n",
       "    </tr>\n",
       "    <tr>\n",
       "      <th>std</th>\n",
       "      <td>3.525138</td>\n",
       "      <td>2.245014</td>\n",
       "    </tr>\n",
       "    <tr>\n",
       "      <th>min</th>\n",
       "      <td>0.000000</td>\n",
       "      <td>0.000000</td>\n",
       "    </tr>\n",
       "    <tr>\n",
       "      <th>25%</th>\n",
       "      <td>1.300000</td>\n",
       "      <td>0.380000</td>\n",
       "    </tr>\n",
       "    <tr>\n",
       "      <th>50%</th>\n",
       "      <td>3.900000</td>\n",
       "      <td>1.550000</td>\n",
       "    </tr>\n",
       "    <tr>\n",
       "      <th>75%</th>\n",
       "      <td>7.700000</td>\n",
       "      <td>2.830000</td>\n",
       "    </tr>\n",
       "    <tr>\n",
       "      <th>max</th>\n",
       "      <td>12.000000</td>\n",
       "      <td>22.500000</td>\n",
       "    </tr>\n",
       "  </tbody>\n",
       "</table>\n",
       "</div>"
      ],
      "text/plain": [
       "              90s       SCA90\n",
       "count  733.000000  733.000000\n",
       "mean     4.580491    2.004734\n",
       "std      3.525138    2.245014\n",
       "min      0.000000    0.000000\n",
       "25%      1.300000    0.380000\n",
       "50%      3.900000    1.550000\n",
       "75%      7.700000    2.830000\n",
       "max     12.000000   22.500000"
      ]
     },
     "execution_count": 7,
     "metadata": {},
     "output_type": "execute_result"
    }
   ],
   "source": [
    "df_filt[['90s', 'SCA90']] = df_filt[['90s', 'SCA90']].astype(float)\n",
    "df_filt.describe()"
   ]
  },
  {
   "cell_type": "code",
   "execution_count": 8,
   "metadata": {},
   "outputs": [
    {
     "data": {
      "text/plain": [
       "(281, 5)"
      ]
     },
     "execution_count": 8,
     "metadata": {},
     "output_type": "execute_result"
    }
   ],
   "source": [
    "df_filt = df_filt[(df_filt['90s'] > 3) & (df_filt['SCA90'] > 1)]\n",
    "df_filt.shape"
   ]
  },
  {
   "cell_type": "code",
   "execution_count": 9,
   "metadata": {},
   "outputs": [
    {
     "data": {
      "text/plain": [
       "5.49"
      ]
     },
     "execution_count": 9,
     "metadata": {},
     "output_type": "execute_result"
    }
   ],
   "source": [
    "df_filt[df_filt['Player'] == 'Marcelino Moreno'].SCA90.values[0]"
   ]
  },
  {
   "cell_type": "code",
   "execution_count": 10,
   "metadata": {},
   "outputs": [
    {
     "data": {
      "image/png": "[encoded data removed]",
      "text/plain": [
       "<Figure size 432x288 with 1 Axes>"
      ]
     },
     "metadata": {},
     "output_type": "display_data"
    }
   ],
   "source": [
    "fig, ax = plt.subplots()\n",
    "fig.set_facecolor('white')\n",
    "spines = ['top','bottom','left','right']\n",
    "for x in spines:\n",
    "    if x in spines:\n",
    "        ax.spines[x].set_visible(False)\n",
    "\n",
    "sns.swarmplot(x='SCA90', data=df_filt, zorder=1)\n",
    "\n",
    "nombre = 'Ramón Sosa'\n",
    "valor = df_filt[df_filt['Player'] == nombre].SCA90.values[0]\n",
    "\n",
    "plt.scatter(valor, 0, s=200, color='red', edgecolor='black', zorder=2)\n",
    "plt.xlabel('Acciones de tiro creadas por 90 min', fontproperties=catamaran2.prop, size=12)\n",
    "plt.xticks(fontproperties=catamaran2.prop, size=12)\n",
    "plt.axvline(df_filt.SCA90.median(), lw=1.2, color='black')\n",
    "\n",
    "style = \"Simple, tail_width=0.5, head_width=4, head_length=8\"\n",
    "kw = dict(arrowstyle=style, color=\"k\")\n",
    "a = patches.FancyArrowPatch((valor, 0), (valor+1, 0.2),\n",
    "                             connectionstyle=\"arc3,rad=.5\", **kw)\n",
    "\n",
    "plt.gca().add_patch(a)\n",
    "\n",
    "ax.text(valor+1.1, 0.2, nombre.replace(' ', '\\n'), fontproperties=catamaran2.prop, size=14, va='center')\n",
    "\n",
    "fig.text(.13, 1.05, 'Acciones de tiro creadas por jugador', fontproperties=titulo.prop, ha='left', va='center', size=15)\n",
    "fig.text(.13, 0.95, 'Jugadores de la Copa de la Liga 2024 con más de\\n270 min jugados y 1 acciones de tiro creada', fontproperties=catamaran2.prop, ha='left', va='center', size=15, color='grey')\n",
    "\n",
    "plt.savefig('beeswarm.png', dpi=300, bbox_inches='tight')\n",
    "\n",
    "plt.show()"
   ]
  }
 ],
 "metadata": {
  "kernelspec": {
   "display_name": "Python 3",
   "language": "python",
   "name": "python3"
  },
  "language_info": {
   "codemirror_mode": {
    "name": "ipython",
    "version": 3
   },
   "file_extension": ".py",
   "mimetype": "text/x-python",
   "name": "python",
   "nbconvert_exporter": "python",
   "pygments_lexer": "ipython3",
   "version": "3.9.2"
  }
 },
 "nbformat": 4,
 "nbformat_minor": 2
}
